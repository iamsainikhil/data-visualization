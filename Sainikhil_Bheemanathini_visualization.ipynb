{
 "cells": [
  {
   "cell_type": "markdown",
   "metadata": {},
   "source": [
    "# ASSIGNMENT 1"
   ]
  },
  {
   "cell_type": "code",
   "execution_count": 5,
   "metadata": {
    "collapsed": true
   },
   "outputs": [],
   "source": [
    "import pandas as pd"
   ]
  },
  {
   "cell_type": "code",
   "execution_count": 6,
   "metadata": {
    "collapsed": false
   },
   "outputs": [],
   "source": [
    "from matplotlib import pyplot as plt\n",
    "%matplotlib inline\n",
    "import numpy as np"
   ]
  },
  {
   "cell_type": "code",
   "execution_count": 7,
   "metadata": {
    "collapsed": true
   },
   "outputs": [],
   "source": [
    "import seaborn as sns"
   ]
  },
  {
   "cell_type": "code",
   "execution_count": null,
   "metadata": {
    "collapsed": true
   },
   "outputs": [],
   "source": [
    "#In the above cells, I imported libraries required for this assignment."
   ]
  },
  {
   "cell_type": "code",
   "execution_count": 9,
   "metadata": {
    "collapsed": false
   },
   "outputs": [],
   "source": [
    "df_math = pd.read_clipboard(header=None)"
   ]
  },
  {
   "cell_type": "code",
   "execution_count": null,
   "metadata": {
    "collapsed": true
   },
   "outputs": [],
   "source": [
    "#In the above cell, I created a dataframe with the clipboard text."
   ]
  },
  {
   "cell_type": "code",
   "execution_count": 11,
   "metadata": {
    "collapsed": true
   },
   "outputs": [],
   "source": [
    "df_math = df_math.rename(index=int, columns={0:\"Rank\",1:\"Country\",2:\"Score\"})"
   ]
  },
  {
   "cell_type": "code",
   "execution_count": null,
   "metadata": {
    "collapsed": true
   },
   "outputs": [],
   "source": [
    "#In the above cell, I changed the name of the columns. In this scenario, [0,1,2] are integers."
   ]
  },
  {
   "cell_type": "code",
   "execution_count": 13,
   "metadata": {
    "collapsed": true
   },
   "outputs": [],
   "source": [
    "df_science = pd.read_clipboard(header=None)"
   ]
  },
  {
   "cell_type": "code",
   "execution_count": 15,
   "metadata": {
    "collapsed": true
   },
   "outputs": [],
   "source": [
    "df_science = df_science.rename(index=int, columns={0:\"Rank\",1:\"Country\",2:\"Score\"})"
   ]
  },
  {
   "cell_type": "code",
   "execution_count": 19,
   "metadata": {
    "collapsed": true
   },
   "outputs": [],
   "source": [
    "df_reading = pd.read_clipboard(header=None)"
   ]
  },
  {
   "cell_type": "code",
   "execution_count": 21,
   "metadata": {
    "collapsed": true
   },
   "outputs": [],
   "source": [
    "df_reading = df_reading.rename(index=int, columns={0:\"Rank\",1:\"Country\",2:\"Score\"})"
   ]
  },
  {
   "cell_type": "code",
   "execution_count": 23,
   "metadata": {
    "collapsed": true
   },
   "outputs": [],
   "source": [
    "temp = pd.merge(df_math,df_science, on='Country', how='outer')"
   ]
  },
  {
   "cell_type": "code",
   "execution_count": null,
   "metadata": {
    "collapsed": true
   },
   "outputs": [],
   "source": [
    "#In the above cell, I merged df_math & df_science dataframes based on country in the form of outer."
   ]
  },
  {
   "cell_type": "code",
   "execution_count": 25,
   "metadata": {
    "collapsed": true
   },
   "outputs": [],
   "source": [
    "temp = pd.merge(temp,df_reading, on='Country', how='outer')"
   ]
  },
  {
   "cell_type": "code",
   "execution_count": null,
   "metadata": {
    "collapsed": true
   },
   "outputs": [],
   "source": [
    "#In the above cell, I merged tempo & df_reading dataframes based on country in the form of outer."
   ]
  },
  {
   "cell_type": "code",
   "execution_count": 35,
   "metadata": {
    "collapsed": false
   },
   "outputs": [],
   "source": [
    "del temp['Rank']"
   ]
  },
  {
   "cell_type": "code",
   "execution_count": null,
   "metadata": {
    "collapsed": true
   },
   "outputs": [],
   "source": [
    "#In the above cell, I deleted the column with name 'Rank'."
   ]
  },
  {
   "cell_type": "code",
   "execution_count": 43,
   "metadata": {
    "collapsed": true
   },
   "outputs": [],
   "source": [
    "df = temp.rename(index=int, columns={\"Score_x\":\"Math\",\"Score_y\":\"Science\",\"Score\":\"Reading\"})"
   ]
  },
  {
   "cell_type": "code",
   "execution_count": 45,
   "metadata": {
    "collapsed": true
   },
   "outputs": [],
   "source": [
    "df['Math'] = pd.to_numeric(df['Math'])\n",
    "df['Science'] = pd.to_numeric(df['Science'])\n",
    "df['Reading'] = pd.to_numeric(df['Reading'])"
   ]
  },
  {
   "cell_type": "code",
   "execution_count": null,
   "metadata": {
    "collapsed": true
   },
   "outputs": [],
   "source": [
    "#In the above cell, I converted the data from string to numeric."
   ]
  },
  {
   "cell_type": "code",
   "execution_count": 46,
   "metadata": {
    "collapsed": true
   },
   "outputs": [],
   "source": [
    "df['Average'] = (df['Math'] + df['Science'] + df['Reading']) / 3"
   ]
  },
  {
   "cell_type": "code",
   "execution_count": null,
   "metadata": {
    "collapsed": true
   },
   "outputs": [],
   "source": [
    "#In the above cell, I added a new column 'Average' which has values [mean of values in 'math','science', and 'reading']"
   ]
  },
  {
   "cell_type": "code",
   "execution_count": 50,
   "metadata": {
    "collapsed": false
   },
   "outputs": [],
   "source": [
    "df['Rank'] = df['Average'].rank(ascending=False)"
   ]
  },
  {
   "cell_type": "code",
   "execution_count": null,
   "metadata": {
    "collapsed": true
   },
   "outputs": [],
   "source": [
    "#In the above cell, I added a new column 'Rank' which has values sorted in descending order based on average."
   ]
  },
  {
   "cell_type": "code",
   "execution_count": null,
   "metadata": {
    "collapsed": true
   },
   "outputs": [],
   "source": [
    "##In the above cell, describe() gives all the statistical values related to column 'Average'."
   ]
  },
  {
   "cell_type": "code",
   "execution_count": 61,
   "metadata": {
    "collapsed": true
   },
   "outputs": [],
   "source": [
    "data1=df['Average']\n",
    "data2=df['Math']"
   ]
  },
  {
   "cell_type": "code",
   "execution_count": 67,
   "metadata": {
    "collapsed": false
   },
   "outputs": [
    {
     "data": {
      "text/plain": [
       "(array([  5.,   9.,   3.,   5.,   5.,  18.,  11.,   6.,   2.,   1.]),\n",
       " array([ 375.        ,  396.26666667,  417.53333333,  438.8       ,\n",
       "         460.06666667,  481.33333333,  502.6       ,  523.86666667,\n",
       "         545.13333333,  566.4       ,  587.66666667]),\n",
       " <a list of 10 Patch objects>)"
      ]
     },
     "execution_count": 67,
     "metadata": {},
     "output_type": "execute_result"
    },
    {
     "data": {
      "image/png": "[encoded data removed]",
      "text/plain": [
       "<matplotlib.figure.Figure at 0xd70d6d8>"
      ]
     },
     "metadata": {},
     "output_type": "display_data"
    }
   ],
   "source": [
    "plt.hist(data1,color='red')"
   ]
  },
  {
   "cell_type": "code",
   "execution_count": null,
   "metadata": {
    "collapsed": true
   },
   "outputs": [],
   "source": [
    "#In the above cell, I created a histogram plot for 'Average'."
   ]
  },
  {
   "cell_type": "code",
   "execution_count": 68,
   "metadata": {
    "collapsed": false,
    "scrolled": true
   },
   "outputs": [
    {
     "data": {
      "text/plain": [
       "(array([  8.,   5.,   7.,   4.,  13.,  13.,  10.,   3.,   1.,   1.]),\n",
       " array([ 368. ,  392.5,  417. ,  441.5,  466. ,  490.5,  515. ,  539.5,\n",
       "         564. ,  588.5,  613. ]),\n",
       " <a list of 10 Patch objects>)"
      ]
     },
     "execution_count": 68,
     "metadata": {},
     "output_type": "execute_result"
    },
    {
     "data": {
      "image/png": "[encoded data removed]",
      "text/plain": [
       "<matplotlib.figure.Figure at 0xdd3a898>"
      ]
     },
     "metadata": {},
     "output_type": "display_data"
    }
   ],
   "source": [
    "plt.hist(data2,color='blue')"
   ]
  },
  {
   "cell_type": "code",
   "execution_count": null,
   "metadata": {
    "collapsed": true
   },
   "outputs": [],
   "source": [
    "#In the above cell, I created a histogram plot for 'Math'."
   ]
  },
  {
   "cell_type": "code",
   "execution_count": 81,
   "metadata": {
    "collapsed": true
   },
   "outputs": [],
   "source": [
    "import numpy as np"
   ]
  },
  {
   "cell_type": "code",
   "execution_count": 93,
   "metadata": {
    "collapsed": false
   },
   "outputs": [
    {
     "data": {
      "image/png": "[encoded data removed]",
      "text/plain": [
       "<matplotlib.figure.Figure at 0xe8e9668>"
      ]
     },
     "metadata": {},
     "output_type": "display_data"
    }
   ],
   "source": [
    "plt.title(\"Assignment 6\")\n",
    "plt.xlim(xmin=360,xmax=630)\n",
    "plt.xticks(np.arange(360, 640, 30))\n",
    "\n",
    "plt.xlabel('Average')\n",
    "plt.ylabel('Math')\n",
    "\n",
    "\n",
    "plt.hist(data1,alpha=0.5,color='red',label='Average',linewidth=1)\n",
    "plt.hist(data2,alpha=0.5,color='blue',label='Math',linewidth=1)\n",
    "plt.legend(loc='upper right')\n",
    "plt.rc('lines', linewidth=1, color='r',linestyle=\"--\")\n",
    "plt.grid(True)\n",
    "plt.show()\n"
   ]
  },
  {
   "cell_type": "code",
   "execution_count": null,
   "metadata": {
    "collapsed": true
   },
   "outputs": [],
   "source": [
    "#In the above cell, I created a histogram plot with 'Average' on x-axis with red color and 'Math' on y-axis with blue color.\n",
    "#I created a legend with color description in the upper right.\n",
    "#I created xlimits of min=360 and max=630.\n",
    "#I created xticks with 30 interval between 360 and 630."
   ]
  },
  {
   "cell_type": "code",
   "execution_count": 85,
   "metadata": {
    "collapsed": false,
    "scrolled": true
   },
   "outputs": [
    {
     "data": {
      "text/plain": [
       "<matplotlib.axes._subplots.AxesSubplot at 0xe61bb00>"
      ]
     },
     "execution_count": 85,
     "metadata": {},
     "output_type": "execute_result"
    },
    {
     "data": {
      "image/png": "[encoded data removed]",
      "text/plain": [
       "<matplotlib.figure.Figure at 0xe284f98>"
      ]
     },
     "metadata": {},
     "output_type": "display_data"
    }
   ],
   "source": [
    "sns.distplot(df[\"Average\"],norm_hist=True)\n",
    "sns.distplot(df[\"Math\"],norm_hist=True)"
   ]
  },
  {
   "cell_type": "code",
   "execution_count": null,
   "metadata": {
    "collapsed": true
   },
   "outputs": [],
   "source": [
    "#I created the above plot using seaborn with normalized form."
   ]
  },
  {
   "cell_type": "markdown",
   "metadata": {},
   "source": [
    "# ASSIGNMENT 2"
   ]
  },
  {
   "cell_type": "code",
   "execution_count": 243,
   "metadata": {
    "collapsed": false
   },
   "outputs": [],
   "source": [
    "def find_outlier(string):\n",
    "    outlier = []\n",
    "    mean = df[string].describe()[1]\n",
    "    std = df[string].describe()[2]\n",
    "    for i in xrange(len(df[string])):\n",
    "        n = (df[string][i])\n",
    "        if abs(mean - n) > 1.8 * std:\n",
    "            f =df[df[string]==n]['Country']\n",
    "            outlier.append(f)\n",
    "            \n",
    "    print(\"The outliers in string are\", outlier)"
   ]
  },
  {
   "cell_type": "code",
   "execution_count": null,
   "metadata": {
    "collapsed": true
   },
   "outputs": [],
   "source": [
    "#In the above cell, I created a find_outlier function which takes string as column_name.\n",
    "#The outliers are appended to outlier list."
   ]
  },
  {
   "cell_type": "code",
   "execution_count": 244,
   "metadata": {
    "collapsed": false
   },
   "outputs": [
    {
     "name": "stdout",
     "output_type": "stream",
     "text": [
      "('The outliers in string are', [0    China Shanghai, China\n",
      "Name: Country, dtype: object, 62     Qatar\n",
      "Name: Country, dtype: object, 64     Peru\n",
      "Name: Country, dtype: object])\n",
      "('The outliers in string are', [0    China Shanghai, China\n",
      "Name: Country, dtype: object, 64     Peru\n",
      "Name: Country, dtype: object])\n",
      "('The outliers in string are', [0    China Shanghai, China\n",
      "Name: Country, dtype: object, 62     Qatar\n",
      "Name: Country, dtype: object, 63     Indonesia\n",
      "Name: Country, dtype: object, 64     Peru\n",
      "Name: Country, dtype: object])\n",
      "('The outliers in string are', [0    China Shanghai, China\n",
      "Name: Country, dtype: object, 62     Qatar\n",
      "Name: Country, dtype: object, 64     Peru\n",
      "Name: Country, dtype: object])\n"
     ]
    }
   ],
   "source": [
    "find_outlier(\"Average\")\n",
    "find_outlier(\"Math\")\n",
    "find_outlier(\"Science\")\n",
    "find_outlier(\"Reading\")"
   ]
  },
  {
   "cell_type": "code",
   "execution_count": null,
   "metadata": {
    "collapsed": true
   },
   "outputs": [],
   "source": [
    "#Thus, the above cell satisfies the assignment output. \n",
    "#Only exeption is name, dtype, and index of the dataframe are also included in the output.\n",
    "##I tried a lot but failed. I searched a lot but couldn't got the exact output."
   ]
  }
 ],
 "metadata": {
  "anaconda-cloud": {},
  "kernelspec": {
   "display_name": "Python [default]",
   "language": "python",
   "name": "python2"
  },
  "language_info": {
   "codemirror_mode": {
    "name": "ipython",
    "version": 2
   },
   "file_extension": ".py",
   "mimetype": "text/x-python",
   "name": "python",
   "nbconvert_exporter": "python",
   "pygments_lexer": "ipython2",
   "version": "2.7.12"
  }
 },
 "nbformat": 4,
 "nbformat_minor": 1
}
